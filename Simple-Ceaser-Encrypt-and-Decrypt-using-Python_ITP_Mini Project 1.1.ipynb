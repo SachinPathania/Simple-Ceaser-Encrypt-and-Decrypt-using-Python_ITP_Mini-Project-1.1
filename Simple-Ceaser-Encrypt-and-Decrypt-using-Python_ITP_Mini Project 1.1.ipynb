{
 "cells": [
  {
   "cell_type": "markdown",
   "metadata": {},
   "source": [
    "# Introduction to Programming – Mini Project 1.1:"
   ]
  },
  {
   "cell_type": "markdown",
   "metadata": {},
   "source": [
    "### Problem 2:\n",
    "\n",
    "Create and encrypter in python based on the ceaser cipher. It is a substitution cipher where each character of the original text is shifted a certain number characters in the alphabet. Write a function that would require 2 arguments – the input text to be encrypted and a key. For eg: Given the input text ‘hello’ and the key 3, the resulting encryted text would be ‘khoor’. Here you can see that every character in the string hello is shifted by 3 characters. ‘h’ has shifted to ‘k’, ‘e’ has shifted to ‘h’ and so on. If a key of 5 were used, the resulting string would be ‘mjqqt’. This function should be capable of ignoring any characters which are not alphabets. The character ‘z’ entered b\n",
    "y the user for a key of 3 would result in ‘c’.\n",
    "\n",
    "Usage:<br>\n",
    "**encrypt(‘hello world!’, 3)**<br>\n",
    "**‘khoor zruog!’**\n",
    "\n",
    "Similarly create decrypter which can decode the encryted text when provided the input text and key\n",
    "\n",
    "Usage:<br>\n",
    "**decrypt(‘khoor zruog!’, 3)**<br>\n",
    "**‘hello world!’**\n",
    "\n",
    "For the sake of simplicity you can assume that input solely consists of lowercase alphabets, spaces and punctuation symbols. Numbers in the input text would also be ignored similar to symbols."
   ]
  },
  {
   "cell_type": "code",
   "execution_count": 8,
   "metadata": {},
   "outputs": [],
   "source": [
    "def encrypt(x,e):\n",
    "    E=[]\n",
    "    count=0\n",
    "    for i in x:\n",
    "        E.append(ord(i))\n",
    "    for i in E:\n",
    "        if (i>=65 and i<=90):\n",
    "            if((i+e)<=90):\n",
    "                E[count]=i+e\n",
    "            else:\n",
    "                E[count]=i+e-26\n",
    "        elif (i>=97 and i<=122):\n",
    "            if((i+e)<=122):\n",
    "                E[count]=i+e\n",
    "            else:\n",
    "                E[count]=i+e-26\n",
    "        count=count+1\n",
    "    for i in E:\n",
    "        print(chr(i),end=\"\")"
   ]
  },
  {
   "cell_type": "code",
   "execution_count": 9,
   "metadata": {},
   "outputs": [
    {
     "name": "stdout",
     "output_type": "stream",
     "text": [
      "khoor zruog!"
     ]
    }
   ],
   "source": [
    "encrypt('hello world!',3)"
   ]
  },
  {
   "cell_type": "code",
   "execution_count": 10,
   "metadata": {},
   "outputs": [],
   "source": [
    "def decrypt(x,e):\n",
    "    D=[]\n",
    "    count=0\n",
    "    for i in x:\n",
    "        D.append(ord(i))\n",
    "    for i in D:\n",
    "        if (i>=65 and i<=90):\n",
    "            if((i-e)>=65):\n",
    "                D[count]=i-e\n",
    "            else:\n",
    "                D[count]=i-e+26\n",
    "        elif (i>=97 and i<=122):\n",
    "            if((i-e)>=97):\n",
    "                D[count]=i-e\n",
    "            else:\n",
    "                D[count]=i-e+26\n",
    "        count=count+1\n",
    "    for i in D:\n",
    "        print(chr(i),end=\"\")"
   ]
  },
  {
   "cell_type": "code",
   "execution_count": 11,
   "metadata": {},
   "outputs": [
    {
     "name": "stdout",
     "output_type": "stream",
     "text": [
      "Hello world!"
     ]
    }
   ],
   "source": [
    "decrypt(\"Khoor zruog!\",3)"
   ]
  },
  {
   "cell_type": "code",
   "execution_count": null,
   "metadata": {},
   "outputs": [],
   "source": []
  }
 ],
 "metadata": {
  "kernelspec": {
   "display_name": "Python 3",
   "language": "python",
   "name": "python3"
  },
  "language_info": {
   "codemirror_mode": {
    "name": "ipython",
    "version": 3
   },
   "file_extension": ".py",
   "mimetype": "text/x-python",
   "name": "python",
   "nbconvert_exporter": "python",
   "pygments_lexer": "ipython3",
   "version": "3.7.6"
  }
 },
 "nbformat": 4,
 "nbformat_minor": 4
}
